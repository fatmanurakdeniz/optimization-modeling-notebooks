{
 "cells": [
  {
   "attachments": {},
   "cell_type": "markdown",
   "id": "46cdb259",
   "metadata": {},
   "source": [
    "# Binary Integer Programming\n",
    "\n",
    "$x_{ij}=\\begin{cases}1\\\\ 0\\end{cases}$ if coin i is assigned to child j, otherwise.\n",
    "\n",
    "The integer linear programming formulation of this problem becomes\n",
    "\n",
    "maximize $z=\\sum_{i=1}^{N}\\sum_{j=1}^{M}x_{ij}$\n",
    "\n",
    "subject to:\n",
    "\n",
    "$\\sum_{i=1}^{N}c_{i}x_{ij}=\\frac{1}{M}\\sum_{i=1}^{N}c_{i} \\quad j=1,2,...,M$\n",
    "\n",
    "$\\sum_{j=1}^{M}x_{ij}=1 \\quad i=1,2,...,N$\n",
    "\n",
    "$x_{ij}\\in\\{0,1\\} \\quad i=1,2,...,N; \\quad j=1,2,...,M$"
   ]
  },
  {
   "cell_type": "code",
   "execution_count": 7,
   "id": "b879bf81",
   "metadata": {},
   "outputs": [],
   "source": [
    "# load libraries\n",
    "import numpy as np\n",
    "import scipy.sparse as sp\n",
    "\n",
    "import cplex as cp"
   ]
  },
  {
   "cell_type": "code",
   "execution_count": 8,
   "id": "13df33ba",
   "metadata": {},
   "outputs": [],
   "source": [
    "def mixed_integer_linear_programming(direction, A, senses, b, c, l, u, types):\n",
    "    # create an empty optimization problem\n",
    "    prob = cp.Cplex()\n",
    "\n",
    "    # add decision variables to the problem including their coefficients in objective and ranges\n",
    "    prob.variables.add(obj = c.tolist(), lb = l.tolist(), ub = u.tolist(), types = types.tolist())\n",
    "\n",
    "    # define problem type\n",
    "    if direction == \"maximize\":\n",
    "        prob.objective.set_sense(prob.objective.sense.maximize)\n",
    "    else:\n",
    "        prob.objective.set_sense(prob.objective.sense.minimize)\n",
    "\n",
    "    # add constraints to the problem including their directions and right-hand side values\n",
    "    prob.linear_constraints.add(senses = senses.tolist(), rhs = b.tolist())\n",
    "\n",
    "    # add coefficients for each constraint\n",
    "    row_indices, col_indices = A.nonzero()\n",
    "    prob.linear_constraints.set_coefficients(zip(row_indices.tolist(), col_indices.tolist(), A.data.tolist()))\n",
    "\n",
    "    print(prob.write_as_string())\n",
    "    # solve the problem\n",
    "    prob.solve()\n",
    "    \n",
    "    # check the solution status\n",
    "    print(prob.solution.get_status())\n",
    "    print(prob.solution.status[prob.solution.get_status()])\n",
    "\n",
    "    # get the solution\n",
    "    x_star = prob.solution.get_values()\n",
    "    obj_star = prob.solution.get_objective_value()\n",
    "\n",
    "    return(x_star, obj_star)"
   ]
  },
  {
   "cell_type": "code",
   "execution_count": 9,
   "id": "2b5a9ccf",
   "metadata": {},
   "outputs": [],
   "source": [
    "def coin_distribution_problem(coins_file, M):\n",
    "    # your implementation starts below\n",
    "    coin = np.loadtxt(coins_file)\n",
    "    N = coin.size\n",
    "    \n",
    "    l= np.repeat(0, N*M)\n",
    "    u= np.repeat(1, N*M)\n",
    "    c= np.repeat(1, N*M)\n",
    "    b= np.concatenate(( np.repeat(np.sum(coin)/M, M), np.repeat(1,N))).astype(int)\n",
    "    senses= np.repeat(\"E\", M+N)\n",
    "    types = np.repeat(\"B\", M*N)\n",
    "    \n",
    "    aij= np.concatenate(( np.repeat(coin.astype(int), M), np.repeat(1,M*N)))\n",
    "    row = np.concatenate(( np.tile(range(M), N), np.repeat(np.arange(M, M+N), M)))\n",
    "    col = np.tile(range(M*N), 2)\n",
    "    A = sp.csr_matrix((aij, (row, col)), shape = (M+N,M*N))\n",
    "    \n",
    "    x_star, obj_star = mixed_integer_linear_programming(\"minimize\", A, senses, b, c, l, u, types)\n",
    "    X_star = np.array(x_star).reshape(N,M)\n",
    "    # your implementation ends above\n",
    "    return(X_star)"
   ]
  },
  {
   "cell_type": "code",
   "execution_count": 10,
   "id": "dd3e05e7",
   "metadata": {},
   "outputs": [
    {
     "name": "stderr",
     "output_type": "stream",
     "text": [
      "Default variable names x1, x2 ... being created.\n",
      "Default row names c1, c2 ... being created.\n"
     ]
    },
    {
     "name": "stdout",
     "output_type": "stream",
     "text": [
      "\\ENCODING=ISO-8859-1\n",
      "\\Problem name: \n",
      "\n",
      "Minimize\n",
      " obj1: x1 + x2 + x3 + x4 + x5 + x6 + x7 + x8\n",
      "Subject To\n",
      " c1: 10 x1 + 5 x3 + 25 x5 + 10 x7  = 25\n",
      " c2: 10 x2 + 5 x4 + 25 x6 + 10 x8  = 25\n",
      " c3: x1 + x2  = 1\n",
      " c4: x3 + x4  = 1\n",
      " c5: x5 + x6  = 1\n",
      " c6: x7 + x8  = 1\n",
      "Bounds\n",
      " 0 <= x1 <= 1\n",
      " 0 <= x2 <= 1\n",
      " 0 <= x3 <= 1\n",
      " 0 <= x4 <= 1\n",
      " 0 <= x5 <= 1\n",
      " 0 <= x6 <= 1\n",
      " 0 <= x7 <= 1\n",
      " 0 <= x8 <= 1\n",
      "Binaries\n",
      " x1  x2  x3  x4  x5  x6  x7  x8 \n",
      "End\n",
      "\n",
      "Version identifier: 22.1.1.0 | 2022-11-28 | 9160aff4d\n",
      "CPXPARAM_Read_DataCheck                          1\n",
      "Found incumbent of value 4.000000 after 0.01 sec. (0.00 ticks)\n",
      "Tried aggregator 2 times.\n",
      "MIP Presolve eliminated 3 rows and 1 columns.\n",
      "MIP Presolve modified 2 coefficients.\n",
      "Aggregator did 7 substitutions.\n",
      "All rows and columns eliminated.\n",
      "Presolve time = 0.01 sec. (0.01 ticks)\n",
      "\n",
      "Root node processing (before b&c):\n",
      "  Real time             =    0.01 sec. (0.01 ticks)\n",
      "Parallel b&c, 8 threads:\n",
      "  Real time             =    0.00 sec. (0.00 ticks)\n",
      "  Sync time (average)   =    0.00 sec.\n",
      "  Wait time (average)   =    0.00 sec.\n",
      "                          ------------\n",
      "Total (root+branch&cut) =    0.01 sec. (0.01 ticks)\n",
      "101\n",
      "MIP_optimal\n",
      "[[1. 0.]\n",
      " [1. 0.]\n",
      " [0. 1.]\n",
      " [1. 0.]]\n"
     ]
    }
   ],
   "source": [
    "X_star = coin_distribution_problem(\"coins.txt\", 2)\n",
    "print(X_star)"
   ]
  }
 ],
 "metadata": {
  "kernelspec": {
   "display_name": "Python 3 (ipykernel)",
   "language": "python",
   "name": "python3"
  },
  "language_info": {
   "codemirror_mode": {
    "name": "ipython",
    "version": 3
   },
   "file_extension": ".py",
   "mimetype": "text/x-python",
   "name": "python",
   "nbconvert_exporter": "python",
   "pygments_lexer": "ipython3",
   "version": "3.9.13"
  }
 },
 "nbformat": 4,
 "nbformat_minor": 5
}
