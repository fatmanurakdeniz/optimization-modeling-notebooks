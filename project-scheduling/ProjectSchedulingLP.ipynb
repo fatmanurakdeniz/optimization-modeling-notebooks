{
 "cells": [
  {
   "cell_type": "markdown",
   "metadata": {},
   "source": [
    "# Project Scheduling (LP)\n",
    "Solve a precedence-constrained project scheduling problem by minimizing makespan with linear programming.\n",
    "\n",
    "## Inputs\n",
    "\n",
    "durations.txt: [task_id, duration]  \n",
    "\n",
    "$d_i$= duration of job i\n",
    "\n",
    "precedences.txt: [successor, predecessor] \n",
    "\n",
    "𝑇 = number of tasks\n",
    "\n",
    "## Decision variables\n",
    "\n",
    "$x_𝑖$ ≥ 0: start time of the job i \n",
    "\n",
    "## Model\n",
    "\n",
    "**Objective:** minimize z = $x_𝑇$ + 1\n",
    "\n",
    "**Subject to:**\n",
    "\n",
    "precedence constraints (P)\n",
    "\n",
    "$x_i$ − $x_j$ ≥ $𝑑_j$            \n",
    "\n",
    "(i, j) ∈ P\n",
    "\n",
    " \n",
    "$x_𝑖$ ≥ 0 \n",
    "\n",
    "i = 0, 1, 2, . . . , 𝑇, 𝑇 + 1"
   ]
  },
  {
   "cell_type": "code",
   "execution_count": 52,
   "metadata": {},
   "outputs": [],
   "source": [
    "# load libraries\n",
    "import numpy as np\n",
    "import scipy.sparse as sp\n",
    "\n",
    "import cplex as cp"
   ]
  },
  {
   "cell_type": "code",
   "execution_count": 53,
   "metadata": {},
   "outputs": [],
   "source": [
    "def linear_programming(direction, A, senses, b, c, l, u):\n",
    "    # create an empty optimization problem\n",
    "    prob = cp.Cplex()\n",
    "\n",
    "    # add decision variables to the problem including their coefficients in objective and ranges\n",
    "    prob.variables.add(obj = c.tolist(), lb = l.tolist(), ub = u.tolist())\n",
    "\n",
    "    # define problem type\n",
    "    if direction == \"maximize\":\n",
    "        prob.objective.set_sense(prob.objective.sense.maximize)\n",
    "    else:\n",
    "        prob.objective.set_sense(prob.objective.sense.minimize)\n",
    "\n",
    "    # add constraints to the problem including their directions and right-hand side values\n",
    "    prob.linear_constraints.add(senses = senses.tolist(), rhs = b.tolist())\n",
    "\n",
    "    # add coefficients for each constraint\n",
    "    row_indices, col_indices = A.nonzero()\n",
    "    prob.linear_constraints.set_coefficients(zip(row_indices.tolist(), col_indices.tolist(), A.data.tolist()))\n",
    "\n",
    "    # solve the problem\n",
    "    prob.solve()\n",
    "\n",
    "    # check the solution status\n",
    "    print(prob.solution.get_status())\n",
    "    print(prob.solution.status[prob.solution.get_status()])\n",
    "\n",
    "    # get the solution\n",
    "    x_star = prob.solution.get_values()\n",
    "    obj_star = prob.solution.get_objective_value()\n",
    "\n",
    "    return(x_star, obj_star)"
   ]
  },
  {
   "cell_type": "code",
   "execution_count": 54,
   "metadata": {},
   "outputs": [],
   "source": [
    "def project_scheduling_problem(durations_file, precedences_file):\n",
    "    \n",
    "    durations   = np.loadtxt(durations_file, dtype=float) \n",
    "    precedences = np.loadtxt(precedences_file, dtype=int)\n",
    "    if precedences.ndim == 1:\n",
    "        precedences = precedences.reshape(1, 2)\n",
    "\n",
    "    # Decision variables\n",
    "    max_id = int(np.max(durations[:, 0]))\n",
    "    N = max_id + 2\n",
    "\n",
    " \n",
    "    durations = np.vstack(([0, 0.0], durations, [N - 1, 0.0]))\n",
    "\n",
    "    d = np.zeros(N, dtype=float)\n",
    "    d[durations[:, 0].astype(int)] = durations[:, 1].astype(float)\n",
    "\n",
    "  \n",
    "    tasks = np.arange(1, N - 1, dtype=int)\n",
    "    P = np.vstack((\n",
    "        np.column_stack((tasks, np.zeros_like(tasks))),         # s_i - s_0 >= d_0 (=0)  -> s_i >= 0\n",
    "        precedences.astype(int),                                # s_succ - s_pred >= d_pred\n",
    "        np.column_stack((np.full_like(tasks, N - 1), tasks))    # s_T - s_i >= d_i       -> makespan\n",
    "    ))\n",
    "    M = P.shape[0]\n",
    "\n",
    "    \n",
    "    c = np.concatenate((np.zeros(N - 1, dtype=float), [1.0]))\n",
    "\n",
    "    #lower and upper bound\n",
    "    l = np.zeros(N, dtype=float)\n",
    "    u = np.repeat(cp.infinity, N)\n",
    "\n",
    "    # RHS\n",
    "    b = d[P[:, 1].astype(int)]\n",
    "\n",
    "    # Matrix A\n",
    "    aij = np.repeat([+1.0, -1.0], M)\n",
    "    row = np.concatenate((np.arange(M), np.arange(M)))\n",
    "    col = np.concatenate((P[:, 0].astype(int), P[:, 1].astype(int)))\n",
    "    A = sp.csr_matrix((aij, (row, col)), shape=(M, N))\n",
    "\n",
    "    senses = np.repeat(\"G\", M)\n",
    "   \n",
    "    x_star, obj_star = linear_programming(\"minimize\", A, senses, b, c, l, u)\n",
    "    return(x_star, obj_star)"
   ]
  },
  {
   "cell_type": "code",
   "execution_count": 55,
   "metadata": {},
   "outputs": [
    {
     "name": "stdout",
     "output_type": "stream",
     "text": [
      "Version identifier: 22.1.1.0 | 2022-11-28 | 9160aff4d\n",
      "CPXPARAM_Read_DataCheck                          1\n",
      "Tried aggregator 1 time.\n",
      "LP Presolve eliminated 26 rows and 10 columns.\n",
      "All rows and columns eliminated.\n",
      "Presolve time = 0.00 sec. (0.01 ticks)\n",
      "1\n",
      "optimal\n",
      "[0.0, 0.0, 2.0, 2.0, 5.0, 5.0, 7.5, 9.5, 10.5, 13.5]\n",
      "13.5\n"
     ]
    }
   ],
   "source": [
    "x_star, obj_star = project_scheduling_problem(\"durations.txt\", \"precedences.txt\")\n",
    "print(x_star)\n",
    "print(obj_star)"
   ]
  }
 ],
 "metadata": {
  "kernelspec": {
   "display_name": "Python 3 (ipykernel)",
   "language": "python",
   "name": "python3"
  },
  "language_info": {
   "codemirror_mode": {
    "name": "ipython",
    "version": 3
   },
   "file_extension": ".py",
   "mimetype": "text/x-python",
   "name": "python",
   "nbconvert_exporter": "python",
   "pygments_lexer": "ipython3",
   "version": "3.9.13"
  }
 },
 "nbformat": 4,
 "nbformat_minor": 4
}
